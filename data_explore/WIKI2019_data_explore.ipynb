{
 "cells": [
  {
   "cell_type": "code",
   "execution_count": 1,
   "metadata": {
    "ExecuteTime": {
     "end_time": "2020-03-21T09:25:32.392645Z",
     "start_time": "2020-03-21T09:25:32.389662Z"
    }
   },
   "outputs": [],
   "source": [
    "import os\n",
    "os.chdir('../')"
   ]
  },
  {
   "cell_type": "markdown",
   "metadata": {
    "ExecuteTime": {
     "end_time": "2020-03-20T23:48:50.243811Z",
     "start_time": "2020-03-20T23:48:50.240847Z"
    }
   },
   "source": [
    "# wiki2018zh数据集，引用自："
   ]
  },
  {
   "cell_type": "markdown",
   "metadata": {},
   "source": [
    "大规模中文自然语言处理语料 Large Scale Chinese Corpus for NLP: https://github.com/brightmart/nlp_chinese_corpus"
   ]
  },
  {
   "cell_type": "markdown",
   "metadata": {},
   "source": [
    "# 配置文件路径"
   ]
  },
  {
   "cell_type": "code",
   "execution_count": 2,
   "metadata": {
    "ExecuteTime": {
     "end_time": "2020-03-21T09:25:32.408609Z",
     "start_time": "2020-03-21T09:25:32.394621Z"
    }
   },
   "outputs": [],
   "source": [
    "corpus_dir_path = '../../Data/wiki_zh/'"
   ]
  },
  {
   "cell_type": "markdown",
   "metadata": {},
   "source": [
    "# 构建语料迭代器"
   ]
  },
  {
   "cell_type": "code",
   "execution_count": 3,
   "metadata": {
    "ExecuteTime": {
     "end_time": "2020-03-21T09:25:32.419552Z",
     "start_time": "2020-03-21T09:25:32.410576Z"
    }
   },
   "outputs": [],
   "source": [
    "from corpus_generator.standard_generator import DirCorpusGenerator\n",
    "import json\n",
    "\n",
    "def split_line(text):\n",
    "    json_string = json.loads(text)\n",
    "    text = json_string.get('text', '')\n",
    "    return [line for line in text.split('\\n') if len(line) > 0]\n",
    "\n",
    "iter = DirCorpusGenerator(corpus_dir_path, recursive=True, split_func=split_line)"
   ]
  },
  {
   "cell_type": "markdown",
   "metadata": {},
   "source": [
    "# 输出20行语料看看"
   ]
  },
  {
   "cell_type": "code",
   "execution_count": 4,
   "metadata": {
    "ExecuteTime": {
     "end_time": "2020-03-21T09:25:32.443516Z",
     "start_time": "2020-03-21T09:25:32.420553Z"
    }
   },
   "outputs": [
    {
     "name": "stdout",
     "output_type": "stream",
     "text": [
      "Index:0 Text:数学\n",
      "Index:1 Text:数学是利用符号语言研究数量、结构、变化以及空间等概念的一门学科，从某种角度看属于形式科学的一种。数学透过抽象化和逻辑推理的使用，由计数、计算、量度和对物体形状及运动的观察而产生。数学家们拓展这些概念，为了公式化新的猜想以及从选定的公理及定义中建立起严谨推导出的定理。\n",
      "Index:2 Text:基础数学的知识与运用总是个人与团体生活中不可或缺的一环。对数学基本概念的完善，早在古埃及、美索不达米亚及古印度内的古代数学文本便可观见，而在古希腊那里有更为严谨的处理。从那时开始，数学的发展便持续不断地小幅进展，至16世纪的文艺复兴时期，因为新的科学发现和数学革新两者的交互，致使数学的加速发展，直至今日。数学并成为许多国家及地区的教育范畴中的一部分。\n",
      "Index:3 Text:今日，数学使用在不同的领域中，包括科学、工程、医学、经济学和金融学等。数学对这些领域的应用通常被称为应用数学，有时亦会激起新的数学发现，并导致全新学科的发展，例如物理学的实质性发展中建立的某些理论激发数学家对于某些问题的不同角度的思考。数学家也研究纯数学，就是数学本身的实质性内容，而不以任何实际应用为目标。虽然许多研究以纯数学开始，但其过程中也发现许多应用之处。\n",
      "Index:4 Text:西方语言中“数学”（）一词源自于古希腊语的（），其有“学习”、“学问”、“科学”，以及另外还有个较狭义且技术性的意思－「数学研究」，即使在其语源内。其形容词（），意思为\"和学习有关的\"或\"用功的\"，亦会被用来指\"数学的\"。其在英语中表面上的复数形式，及在法语中的表面复数形式'，可溯至拉丁文的中性复数'，由西塞罗译自希腊文复数（），此一希腊语被亚里士多德拿来指「万物皆数」的概念。\n",
      "Index:5 Text:汉字表示的「数学」一词大约产生于中国宋元时期。多指象数之学，但有时也含有今天上的数学意义，例如，秦九韶的《数学九章》（《永乐大典》记，即《数书九章》也被宋代周密所著的《癸辛杂识》记为《数学大略》）、《数学通轨》（明代柯尚迁著）、《数学钥》（清代杜知耕著）、《数学拾遗》（清代丁取忠撰）。直到1939年，经过中国数学名词审查委员会研究“算学”与“数学”两词的使用状况后，确认以“数学”表示今天意义上的数学含义。\n",
      "Index:6 Text:数学有着久远的历史。它被认为起源于人类早期的生产活动：中国古代的六艺之一就有「数」，数学一词在西方有希腊语词源（mathematikós），意思是“学问的基础”，源于（máthema，“科学，知识，学问”）。\n",
      "Index:7 Text:史前的人类就已尝试用自然的法则来衡量物质的多少、时间的长短等抽象的数量关系，比如时间单位有日、季节和年等。算术（加减乘除）也自然而然地产生了。古代的石碑及泥版亦证实了当时已有几何的知识。\n",
      "Index:8 Text:更进一步则需要写作或其他可记录数字的系统，如符木或于印加帝国内用来储存数据的奇普。历史上曾有过许多不同的记数系统。\n",
      "Index:9 Text:在最初有历史记录的时候，数学内的主要原理是为了做税务和贸易等相关计算，为了解数字间的关系，为了测量土地，以及为了预测天文事件而形成的。这些需要可以简单地被概括为数学对数量、结构、空间及时间方面的研究。\n",
      "Index:10 Text:到了16世纪，算术、初等代数以及三角学等初等数学已大体完备。17世纪变量概念的产生使人们开始研究变化中的量与量的互相关系和图形间的互相变换，微积分的概念也在此时形成。随着数学转向形式化，为研究数学基础而产生的集合论和数理逻辑等也开始发展。数学的重心从求解实际问题转变到对一般形式上的思考。\n",
      "Index:11 Text:从古至今，数学便一直不断地延展，且与科学有丰富的相互作用，两者的发展都受惠于彼此。在历史上有著许多数学发现，并且直至今日都不断地有新的发现。据Mikhail B. Sevryuk于2006年1月的期刊中所说，「存放于数学评论资料库中论文和书籍的数量自1940年（数学评论的创刊年份）现已超过了一百九十万份，而且每年还增加超过七万五千份。此一学海的绝大部份为新的数学定理及其证明。」\n",
      "Index:12 Text:每当有涉及数量、结构、空间及变化等方面的困难问题时，通常就需要用到数学工具去解决问题，而这往往也拓展了数学的研究范畴。一开始，数学的运用可见于贸易、土地测量及之后的天文学。今日，所有的科学都存在著值得数学家研究的问题，且数学本身亦给出了许多的问题。牛顿和莱布尼兹是微积分的发明者，费曼发明了费曼路径积分，这是推理及物理洞察二者的产物，而今日的弦理论亦引申出新的数学。一些数学只和生成它的领域有关，且用来解答此领域的更多问题。但一般被一领域生成的数学在其他许多领域内也十分有用，且可以成为一般的数学概念。即使是「最纯的」数学通常亦有实际的用途，此一非比寻常的事实，被1963年诺贝尔物理奖得主维格纳称为「数学在自然科学中不可想像的有效性」。\n",
      "Index:13 Text:如同大多数的研究领域，科学知识的爆发导致了数学的专业化。主要的分歧为纯数学和应用数学。在应用数学内，又被分成两大领域，并且变成了它们自身的学科——统计学和电脑科学。\n",
      "Index:14 Text:许多数学家谈论数学的\"优美\"，其内在的美学及美。「简单」和「一般化」即为美的一种。另外亦包括巧妙的证明，如欧几里得对存在无限多质数的证明；又或者是加快计算的数值方法，如快速傅立叶变换。高德菲·哈罗德·哈代在《一个数学家的自白》一书中表明他相信单单是美学上的意义，就已经足够作为纯数学研究的正当理由。\n",
      "Index:15 Text:我们现今所使用的大部分数学符号在16世纪后才被发明出来的。在此之前，数学以文字的形式书写出来，这种形式会限制了数学的发展。现今的符号使得数学对于专家而言更容易掌握，但初学者却常对此望而却步。它被极度的压缩：少量的符号包含著大量的讯息。如同音乐符号一般，现今的数学符号有明确的语法，并且有效地对讯息作编码，这是其他书写方式难以做到的。符号化和形式化使得数学迅速发展，并帮助各个科学领域建立基础支撑理论。\n",
      "Index:16 Text:数学语言亦对初学者而言感到困难。如“或”和“只”这些字有著比日常用语更精确的意思。亦困恼著初学者的，如“开放”和“域”等字在数学里有著特别的意思。数学术语亦包括如“同胚”及“可积性”等专有名词。但使用这些特别符号和专有术语是有其原因的：数学需要比日常用语更多的精确性。数学家将此对语言及逻辑精确性的要求称为「严谨」。但在现实应用中，舍弃一些严谨性往往会得到更好的结果。\n",
      "Index:17 Text:严谨是数学证明中很重要且基本的一部份。数学家希望他们的定理以系统化的推理依著公理被推论下去。这是为了避免依著不可靠的直观而推出错误的「定理」，而这情形在历史上曾出现过许多的例子。在数学中被期许的严谨程度因著时间而不同：希腊人期许著仔细的论证，但在牛顿的时代，所使用的方法则较不严谨。牛顿为了解决问题所做的定义，到了十九世纪才重新以小心的分析及正式的证明来处理。今日，数学家们则持续地在争论电脑辅助证明的严谨度。当大量的计算难以被验证时，其证明亦很难说是足够地严谨。\n",
      "Index:18 Text:公理在传统的思想中是「不证自明的真理」，但这种想法是有问题的。在形式上，公理只是一串符号，其只对可以由公理系统导出的公式之内容有意义。希尔伯特计划即是想将所有的数学放在坚固的公理基础上，但依据哥德尔不完备定理，每一相容且能蕴涵皮亚诺公理的公理系统必含有一不可决定的公式；因而所有数学的最终公理化是不可能的。尽管如此，数学常常被想像成只是某种公理化的集合论，在此意义下，所有数学叙述或证明都可以写成集合论的公式。\n",
      "Index:19 Text:卡尔·弗里德里希·高斯称数学为「科学的皇后」。在拉丁原文'，以及其德语'中，对应于「科学」的单字的意思皆为知识（领域）。而实际上，science一词在英语内本来就是这个意思，且无疑问地数学在此意义下确实是一门「科学」。将科学限定在自然科学则是在此之后的事。若认为科学是只指物理的世界时，则数学，或至少是纯数学，不会是一门科学。爱因斯坦曾如此描述：「数学定律越和现实有关，它们越不确定；若它们越是确定的话，它们和现实越不会有关。」\n",
      "Index:20 Text:许多哲学家相信数学在经验上不具可否证性，且因此不是卡尔·波普尔所定义的科学。但在1930年代时，在数理逻辑上的重大进展显示数学不能归并至逻辑内，且波普尔推断「大部份的数学定律，如物理及生物学一样，是假设演绎的：纯数学因此变得更接近其假设为猜测的自然科学，比它现在看起来更接近。」然而，其他的思想家，如较著名的拉卡托斯，便提供了一个关于数学本身的可否证性版本。\n"
     ]
    }
   ],
   "source": [
    "for idx, line in enumerate(iter):\n",
    "    print(\"Index:{} Text:{}\".format(idx, line))\n",
    "    if idx == 20:\n",
    "        break"
   ]
  },
  {
   "cell_type": "markdown",
   "metadata": {},
   "source": [
    "# 非中文字符"
   ]
  },
  {
   "cell_type": "code",
   "execution_count": 5,
   "metadata": {
    "ExecuteTime": {
     "end_time": "2020-03-21T09:25:32.815598Z",
     "start_time": "2020-03-21T09:25:32.444507Z"
    }
   },
   "outputs": [
    {
     "name": "stdout",
     "output_type": "stream",
     "text": [
      "Index:628 Text:-{zh-hant:; zh-hans:;}-\n",
      "Index:882 Text:它们是域（regio）、界（regnum）、门（divisio 或 phylum）、纲（classis）、目（ordo）、科（familia）、属（genus）、种（species）。\n",
      "Index:1081 Text:自然环境投入（natural environment input）\n",
      "Index:1085 Text:人文环境投入（human environment input）\n",
      "Index:1086 Text:劳力（labour）、资本（capital）、市场（market）、运输（transport）、技术（technology）、土地（land）、政府（government）、个人观感（perception）。\n",
      "Index:1109 Text:以\"http://zh.wikipedia.org:80/w/index.php?title=Special:%E9%9A%8F%E6%9C%BA%E9%A1%B5%E9%9D%A2 \"为例,\n",
      "Index:1706 Text:Hello everybody out there using minix-\n",
      "Index:1707 Text:I'm doing a (free) operation system (just a hobby,\n",
      "Index:1708 Text:won't be big and professional like gnu) for 386(486) AT clones.\n",
      "Index:1790 Text:<nowiki>*:</nowiki> \n",
      "Index:1791 Text:<nowiki>**:</nowiki> \n",
      "Index:1792 Text:<nowiki>***</nowiki>\n",
      "Index:2731 Text:Qin/Ch'in 秦 (前248- 前207,计42年)\n",
      "Index:2989 Text:（3）近代（1841-1949）\n",
      "Index:2990 Text:（4）当代（1949- ）\n",
      "Index:3409 Text:Sui 隋 (581-618，计37年)\n",
      "Index:3410 Text:Tang/T'ang 唐 (618-690，705-907，计289年)\n",
      "Index:3411 Text:Five Dynasties 五代 (907-960，计54年)\n",
      "Index:3412 Text:Later Liang 后梁 (907-923，计17年)\n",
      "Index:3413 Text:Later Tang 后唐 (923-936，计13年)\n",
      "Index:3414 Text:Later Jin/Chin 后晋 (936-946，计11年)\n",
      "Index:3415 Text:Later Han 后汉 (947-950，计4年)\n",
      "Index:3416 Text:Later Zhou 后周 (951-960，计10年)\n",
      "Index:3417 Text:Ten Kingdoms 十国 (902-979，计78年) \n",
      "Index:3576 Text:值得注意的阿尔巴尼亚电影导演包括Andamion Murataj、BesimSahatçiu、Xhanfize Keko、DhimitërAnagnosti、KujtimÇashku、Luljeta Hoxha、Saim Kokona、Saimir Kumbaro、Kristaq Mitro、Leon Qafzezi以及Gjergj Xhuvani。阿尔巴尼亚的著名演员包括Nik Xhelilaj、Klement Tinaj、Masiela Lusha、Blerim Destani、AleksandërMoisiu、Tinka Kurti、Pjetër Malota、SandërProsi以及Margarita Xhepa。\n",
      "Index:5619 Text:<noinclude>\n",
      "Index:6511 Text:根据TIOBE指数在2018年9月，十大最受欢迎的语言如下：Java、C、Python、C++、Visual Basic .NET、C#、PHP、JavaScript、SQL及Objective-C.。\n",
      "Index:6586 Text:（ 参考： Languages of New Zealand--wikipedia )\n",
      "Index:6850 Text:-{zh-hans:;zh-hant:\n",
      "Index:6874 Text:A:R=lw:(1x1)\n",
      "Index:7346 Text:辽朝（907/916-1125年）\n",
      "Index:7685 Text:A B C D E F G H I J K L M N O P Q R S T U V W X Y Z 中国化学家\n",
      "Index:7772 Text:Addison-Wesley (April 2001) ISBN 0-201-71499-X, Paperback: 440 pages ; Dimensions (in inches): 0.89 x 9.20 x 7.35\n",
      "Index:7939 Text:-{zh-cn:;zh-tw:;}-\n",
      "Index:8859 Text:Tai Dam（黑傣）、Tai Dón（白泰）、Tai Daeng（红泰）、Phuan（傣Phuan）、Thai Song（松）\n",
      "Index:8860 Text:Tai Yuan（傣沅）、Tai Lü（傣泐）、Khun（傣痕）\n",
      "Index:9299 Text:</noinclude>\n",
      "Index:9313 Text:Ridley项目正在尝试统一一系列和GTK+相关的库，包括libgnome、libgnomeui、libgnomeprint、libgnomeprintui、libglade、libgnomecanvas、libegg、libeel和gtkglext。\n",
      "Index:10491 Text:Hello World\n",
      "Index:10692 Text:HIV分为两种：HIV-1，HIV-2。 \n",
      "Index:10836 Text:3LiO + 2Al = 6Li + AlO—33.6千卡\n",
      "Index:10837 Text:2LiO + Si = 4Li + SiO—76.3千卡\n",
      "Index:11490 Text:Visual Basic\n",
      "Index:11500 Text:2002年Visual Basic .NET 2002（v7.0）问世，此后Visual Basic包含在Visual Studio套装中。\n",
      "Index:11501 Text:2003年Visual Basic .NET 2003（v7.1）推出。\n",
      "Index:11503 Text:2008年2月1日Visual Basic 2008（v9.0）发布。\n",
      "Index:11508 Text:Visual Basic 2015（VB 14.0）于2015年7月20日发布。\n",
      "Index:11871 Text:Windows 1.0\n",
      "Index:12201 Text:a. In the preface to \"On Spirals\" addressed to Dositheus of Pelusium, Archimedes says that \"many years have elapsed since Conon's death.\" Conon of Samos lived , suggesting that Archimedes may have been an older man when writing some of his works.\n",
      "Index:12202 Text:b. The treatises by Archimedes known to exist only through references in the works of other authors are: \"On Sphere-Making\" and a work on polyhedra mentioned by Pappus of Alexandria; \"Catoptrica\", a work on optics mentioned by Theon of Alexandria; \"Principles\", addressed to Zeuxippus and explaining the number system used in \"The Sand Reckoner\"; \"On Balances and Levers\"; \"On Centers of Gravity\"; \"On the Calendar\". Of the surviving works by Archimedes, T. L. Heath offers the following suggestion as to the order in which they were written: \"On the Equilibrium of Planes I\", \"The Quadrature of the Parabola\", \"On the Equilibrium of Planes II\", \"On the Sphere and the Cylinder I, II\", \"On Spirals\", \"On Conoids and Spheroids\", \"On Floating Bodies I, II\", \"On the Measurement of a Circle\", \"The Sand Reckoner\".\n",
      "Index:12203 Text:c. Boyer, Carl Benjamin \"A History of Mathematics\" (1991) \"Arabic scholars inform us that the familiar area formula for a triangle in terms of its three sides, usually known as Heron's formula — \"k\" = , where \"s\" is the semiperimeter — was known to Archimedes several centuries before Heron lived. Arabic scholars also attribute to Archimedes the 'theorem on the broken chord' ... Archimedes is reported by the Arabs to have given several proofs of the theorem.\"\n",
      "Index:12204 Text:d. \"It was usual to smear the seams or even the whole hull with pitch or with pitch and wax\". In Νεκρικοὶ Διάλογοι (\"Dialogues of the Dead\"), Lucian refers to coating the seams of a skiff with wax, a reference to pitch (tar) or wax.\n",
      "Index:13026 Text:Windows 3.x\n",
      "Index:13079 Text:Microsoft Windows\n",
      "Index:13086 Text:Windows NT 3.1（1992年）、\n",
      "Index:13090 Text:Windows 2000、\n",
      "Index:13091 Text:Windows XP、32-{zh-hans:位; zh-hant:位元;}-\n",
      "Index:13092 Text:Windows Vista和32-{zh-hans:位; zh-hant:位元;}-\n",
      "Index:13095 Text:Windows 8.1、\n",
      "Index:13096 Text:Windows 10（Windows XP、Windows Vista、Windows 7、Windows 8、Windows 8.1、Windows 10同时有32-{zh-hans:位; zh-hant:位元;}-的x86版本与64-{zh-hans:位; zh-hant:位元;}-的x64版本）。\n",
      "Index:13097 Text:Windows Server 2003也有x86版本，包括Windows Server 2003 R2 Datacenter Edition（32-Bit x86），\n",
      "Index:13098 Text:Windows Server 2003 R2 Enterprise Edition（32-Bit x86），\n",
      "Index:13099 Text:Windows Server 2003 R2 Standard Edition（32-bit x86）等。\n",
      "Index:13127 Text:其中一些保留名称有：codice_1、codice_2或codice_3、codice_4、codice_5、codice_6、codice_7、codice_8或codice_9、codice_10、codice_11，以及codice_12。\n",
      "Index:13156 Text:Windows 2000\n",
      "Index:13161 Text:Windows 2000后续系统为Windows XP及Windows Server 2003。\n",
      "Index:13168 Text:Windows inc.=S122595264 \n",
      "Index:13169 Text:Windows 2000 Professional:\n",
      "Index:13170 Text:Windows 2000 Server:\n",
      "Index:13171 Text:Windows 2000 Advanced Server:\n",
      "Index:13172 Text:Windows inc.=S122595264=[Hsi-Feng]inc.\n",
      "Index:13374 Text:NTFS的开发者包括：Tom Miller、Gary Kimura、Brian Andrew以及David Goebel。\n",
      "Index:13916 Text:[[File:World Health Organisation regional offices.svg|thumb|世界卫生组织六个区域：\n",
      "Index:13936 Text:Microsoft Office\n",
      "Index:14006 Text:picosecond，即1000飞秒。\n",
      "Index:14008 Text:（µs）microsecond\n",
      "Index:14009 Text:millisecond (ms)\n",
      "Index:14157 Text:  详见http://win32forth.sourceforge.net 。\n",
      "Index:14164 Text:</onlyinclude>\n",
      "Index:14234 Text:Aㄚㄞㄠ - Bㄅ - Cㄘㄔ - Dㄉ - Eㄜ - Fㄈ - Gㄍ - Hㄏ - I - Jㄐ - Kㄎ - Lㄌ - Mㄇ - Nㄋ - Oㄡ - Pㄆ - Q - Rㄖ - Sㄙㄕ - Tㄊ - U - V - Wㄨ - Xㄒ - Yㄧㄩ - Zㄗㄓ\n",
      "Index:14358 Text:-{H|zh-hans:耻;zh-hant:耻;}-\n",
      "Index:14838 Text:-{zh-hans:; zh-hant:;}-\n",
      "Index:15177 Text:Michael Learns to Rock\n",
      "Index:15848 Text:<noinclude>\n",
      "Index:16462 Text:2005年4月，DirectShow从DirectX移除，加入到Microsoft Platform SDK。\n",
      "Index:16470 Text:Direct3D 10.1是DirectX 10的改进版，随Vista SP1出货。\n",
      "Index:16473 Text:DirectX 11.2是DirectX 11.1的改进版，随Windows 8.1出货。\n",
      "Index:16505 Text:Dave Shreiner, Graham Sellers, John M. Kessenich and Bill M. Licea-Kane. 2013. OpenGL Programming Guide: The Official Guide to Learning OpenGL, Version 4.3（8th Edition）. Addison-Wesley Professional. ISBN 978-0321773036.\n",
      "Index:16506 Text:Randi J. Rost, Bill M. Licea-Kane, Dan Ginsburg, John M. Kessenich, Barthold Lichtenbelt, Hugh Malan and Mike Weiblen. 2009. OpenGL Shading Language (3rd Edition).\n",
      "Index:16507 Text:Addison-Wesley Professional. ISBN 978-0321637635\n",
      "Index:17513 Text:En multaj lokoj de Ĉinio estas temploj de drako-reĝo. Dum trosekeco oni preĝis en la temploj, ke la drako-reĝo donu pluvon al la homa mondo. Tiam drako estis simbolo de la supernatura estaĵo. Kaj pli poste, ĝi fariĝis prapatro de la plej altaj regantoj kaj simbolis la absolutan aŭtoritaton de feŭda imperiestro. La imperiestro pretendis, ke li estas filo de la drako. Ĉiuj liaj vivbezonaĵoj portis la nomon drako kaj estis ornamitaj per diversaj drakofiguroj. Nun ĉie en Ĉinio videblas drako-ornamentaĵoj, kaj cirkulas legendoj pri drakoj.\n",
      "Index:17515 Text:In many places in China, there were temples of the dragon-king. During times of drought, people would pray in the temples that the dragon-king would give rain to the human world. At that time the dragon was a symbol of the supernatural. Later on, it became the ancestor of the highest rulers and symbolised the absolute authority of the feudal emperor. The emperor claimed to be the son of the dragon. All of his personal possessions carried the name \"loong\" and were decorated with various dragon figures. Now dragons decorations can be seen everywhere in China and legends about dragons circulate.\n",
      "Index:17849 Text:Windows 2.0\n",
      "Index:18411 Text:世界知识产权组织（World Intellectual Property Organization, WIPO，1967）之界定:\n",
      "Index:18557 Text:Nu: + R-X → R-Nu + X\n",
      "Index:18561 Text:CH-CH-CH=CH + HBr → CH-CH-CH（Br）−CH\n",
      "Index:18564 Text:CH-CH-CH=CH + HBr → CH-CH-CH-CH-Br + HO\n",
      "Index:18571 Text:CH-CH-CH-CH-OH + Br ←→ CH-CH-CH-CH-Br + HO\n",
      "Index:19606 Text:Sailey, Jay. The Master Who Embraces Simplicity: A study of the philosopher Ko Hung, A.D. 283-343. San Francisco: Chinese Materials Center. 1978. ISBN 0-89644-522-4 \n",
      "Index:19637 Text:<div align=\"left\">\n"
     ]
    }
   ],
   "source": [
    "cnt_print = 0\n",
    "\n",
    "def is_non_cn_char_line(text, threshold=0.8):\n",
    "    num_cn_char = len([c for c in text if not '\\u4e00' <= c <= '\\u9fa5'])\n",
    "    if num_cn_char/len(text) > threshold:\n",
    "        return True\n",
    "    else:\n",
    "        return False\n",
    "\n",
    "for idx, line in enumerate(iter):\n",
    "    if is_non_cn_char_line(line) and len(line)>10: \n",
    "        print(\"Index:{} Text:{}\".format(idx, line))\n",
    "        cnt_print += 1\n",
    "        \n",
    "        \n",
    "\n",
    "    if cnt_print == 100:\n",
    "        break"
   ]
  },
  {
   "cell_type": "markdown",
   "metadata": {},
   "source": [
    "值得注意的是除了个别不好翻译的名字、特殊名称等沿用了外文之外，还会存在大量成段的英文，因此，将这些英文干掉。"
   ]
  },
  {
   "cell_type": "markdown",
   "metadata": {},
   "source": [
    "# 去掉非中文行"
   ]
  },
  {
   "cell_type": "code",
   "execution_count": 6,
   "metadata": {
    "ExecuteTime": {
     "end_time": "2020-03-21T09:25:32.889420Z",
     "start_time": "2020-03-21T09:25:32.817489Z"
    },
    "scrolled": true
   },
   "outputs": [
    {
     "name": "stdout",
     "output_type": "stream",
     "text": [
      "Index:0 Text:数学\n",
      "Index:39 Text:哲学\n",
      "Index:78 Text:主条目：近代哲学\n",
      "Index:107 Text:历程哲学：\n",
      "Index:108 Text:主流马克思主义：\n",
      "Index:109 Text:西方马克思主义：\n",
      "Index:110 Text:革新的黑格尔主义：\n",
      "Index:111 Text:结构主义：\n",
      "Index:112 Text:分析哲学：\n",
      "Index:113 Text:实证主义：\n",
      "Index:114 Text:新康德主义：\n",
      "Index:115 Text:逻辑实证主义：\n",
      "Index:116 Text:语言哲学：\n",
      "Index:117 Text:现象学：\n",
      "Index:118 Text:唯物论：\n",
      "Index:119 Text:新托马斯主义：\n",
      "Index:120 Text:科学哲学：\n",
      "Index:121 Text:意志主义：\n",
      "Index:122 Text:实用主义：\n",
      "Index:123 Text:存在主义：\n",
      "Index:124 Text:解释学：\n",
      "Index:133 Text:文学\n",
      "Index:160 Text:历史\n",
      "Index:181 Text:计算机科学\n",
      "Index:218 Text:民族\n",
      "Index:260 Text:戏剧\n",
      "Index:304 Text:电影\n",
      "Index:326 Text:音乐\n",
      "Index:332 Text:音乐的要素包括：\n",
      "Index:349 Text:中国音乐分类\n",
      "Index:359 Text:经济学\n",
      "Index:484 Text:政治学\n",
      "Index:520 Text:法学\n",
      "Index:548 Text:社会学\n",
      "Index:596 Text:军事学\n",
      "Index:600 Text:信息学\n",
      "Index:603 Text:物理学\n",
      "Index:669 Text:天文学\n",
      "Index:746 Text:力学\n",
      "Index:760 Text:化学\n",
      "Index:773 Text:四大学门主要为：\n",
      "Index:800 Text:地理学\n",
      "Index:836 Text:地质学\n",
      "Index:840 Text:把显生宙放大：\n",
      "Index:851 Text:气象学\n",
      "Index:861 Text:其它：\n",
      "Index:862 Text:生物学\n",
      "Index:888 Text:心理学\n",
      "Index:943 Text:主要分为三种\n",
      "Index:957 Text:中医学\n",
      "Index:1041 Text:海洋学\n",
      "Index:1050 Text:水文学\n",
      "Index:1061 Text:测绘学\n",
      "Index:1068 Text:农业\n",
      "Index:1081 Text:农业生态系统的运作\n",
      "Index:1096 Text:统一资源定位符\n",
      "Index:1103 Text:其中：\n",
      "Index:1108 Text:计算\n",
      "Index:1115 Text:数据结构\n",
      "Index:1124 Text:设计模式\n",
      "Index:1125 Text:设计模式可以指：\n",
      "Index:1126 Text:中华人民共和国\n",
      "Index:1235 Text:克利斯登·奈加特\n",
      "Index:1273 Text:Linux内核\n",
      "Index:1322 Text:早期版本：\n",
      "Index:1337 Text:林纳斯·托瓦兹\n",
      "Index:1362 Text:理查德·斯托曼\n",
      "Index:1378 Text:自由软件基金会\n",
      "Index:1382 Text:目前计划：\n",
      "Index:1386 Text:2003年7月\n",
      "Index:1388 Text:请参看：\n",
      "Index:1389 Text:孙中山\n",
      "Index:1532 Text:天下为公。\n",
      "Index:1581 Text:操作系统\n",
      "Index:1680 Text:操作系统列表\n",
      "Index:1731 Text:GNU计划\n",
      "Index:1742 Text:自由软件运动\n",
      "Index:1760 Text:材料科学\n",
      "Index:1765 Text:详见请至材料科技史\n",
      "Index:1766 Text:诺贝尔奖\n",
      "Index:1777 Text:学者部分\n",
      "Index:1778 Text:组织部分\n",
      "Index:1788 Text:植物学\n",
      "Index:1809 Text:生命\n",
      "Index:1821 Text:其他定义包括：\n",
      "Index:1853 Text:程序设计\n",
      "Index:1861 Text:计算机程序\n",
      "Index:1875 Text:中国历史\n",
      "Index:2049 Text:亳州市\n",
      "Index:2062 Text:计算机网络\n",
      "Index:2068 Text:语言列表\n",
      "Index:2070 Text:上海市\n",
      "Index:2181 Text:主条目:\n",
      "Index:2219 Text:史家\n",
      "Index:2221 Text:个人历史\n",
      "Index:2223 Text:地方历史\n",
      "Index:2225 Text:世界历史\n",
      "Index:2230 Text:开放源代码\n",
      "Index:2236 Text:三维绘图及渲染\n",
      "Index:2237 Text:整合式开发环境\n"
     ]
    }
   ],
   "source": [
    "def is_non_cn_char_line(text, threshold=0.8):\n",
    "    num_cn_char = len([c for c in text if not '\\u4e00' <= c <= '\\u9fa5'])\n",
    "    if num_cn_char/len(text) > threshold:\n",
    "        return True\n",
    "    else:\n",
    "        return False\n",
    "\n",
    "\n",
    "def split_line(text):\n",
    "    json_string = json.loads(text)\n",
    "    text = json_string.get('text', '')\n",
    "    return [line for line in text.split('\\n') if len(line) > 0 and not is_non_cn_char_line(line)]\n",
    "\n",
    "\n",
    "iter = DirCorpusGenerator(\n",
    "    corpus_dir_path, recursive=True, split_func=split_line)\n",
    "\n",
    "cnt_print = 0\n",
    "\n",
    "\n",
    "for idx, line in enumerate(iter):\n",
    "    if len(line)< 10:\n",
    "        print(\"Index:{} Text:{}\".format(idx, line))\n",
    "        cnt_print += 1\n",
    "\n",
    "    if cnt_print == 100:\n",
    "        break"
   ]
  },
  {
   "cell_type": "markdown",
   "metadata": {},
   "source": [
    "# 存在许多短文本，其实是标题，用10的阈值过滤掉这些比较短的文本"
   ]
  },
  {
   "cell_type": "code",
   "execution_count": 7,
   "metadata": {
    "ExecuteTime": {
     "end_time": "2020-03-21T09:25:32.994045Z",
     "start_time": "2020-03-21T09:25:32.891293Z"
    }
   },
   "outputs": [
    {
     "name": "stdout",
     "output_type": "stream",
     "text": [
      "Index:41 Text:英国哲学家罗素对哲学的定义是：\n",
      "Index:87 Text:康德给哲学带来了三个标志性的创造：\n",
      "Index:102 Text:20世纪的西方哲学上主流有两条：\n",
      "Index:103 Text:现代哲学主要包含以下几种潮流。\n",
      "Index:194 Text:民族，又称人，简称民、族。\n",
      "Index:230 Text:3. 原文最早发表于1912年。\n",
      "Index:234 Text:（按照作者姓氏汉语拼音顺序排列）\n",
      "Index:255 Text:戏剧类型大致有:喜剧 、 悲剧 。\n",
      "Index:272 Text: 观众 故事 演员 舞台。\n",
      "Index:503 Text:法律职业培训分为两大类：\n",
      "Index:507 Text:目前台湾较具代表性的法学院：\n",
      "Index:508 Text:仅有研究所而乏大学部的法学院所：\n",
      "Index:710 Text:力学主要可分为古典力学及量子力学。\n",
      "Index:732 Text:其他延展和应用的学门：\n",
      "Index:764 Text:传统上，地理学有四个基本的研究范畴：\n",
      "Index:778 Text:地理学家在其研究中使用四个相关的方法：\n",
      "Index:802 Text:地质学史上有三场著名的争论。\n",
      "Index:813 Text:比较有名的天气数值模式有：\n",
      "Index:839 Text:这些是生物学的主要分支：\n",
      "Index:910 Text:狭义的中医学，指的则是汉医。\n",
      "Index:956 Text:世界上的医疗体系大致上可分成：\n",
      "Index:997 Text:海洋学研究分为四大部分：\n",
      "Index:1027 Text:农业社会经济系统的运作\n",
      "Index:1035 Text:范杜能模式有一些简化了的假设：\n",
      "Index:1042 Text:统一资源定位符的标准格式如下：\n",
      "Index:1043 Text:统一资源定位符的完整格式如下：\n",
      "Index:1170 Text:中国计算机科学大事年表\n",
      "Index:1255 Text:Linux内核的主要贡献者可见于。\n",
      "Index:1256 Text:Linux内核有三个不同的命名方案。\n",
      "Index:1282 Text:2010年，托瓦兹宣誓成为美国公民。\n",
      "Index:1291 Text:时代杂志多次确认了托瓦兹的成就：\n",
      "Index:1314 Text:一般在波士顿总部里有10个雇员工作。\n",
      "Index:1316 Text:2003年7月的新闻事件：\n",
      "Index:1324 Text:辛亥革命后，孙与黄兴合称为孙黄。\n",
      "Index:1325 Text:孙文多次被反对者称呼为「孙大炮」。\n",
      "Index:1345 Text:1885年夏，毕业于中央书院。\n",
      "Index:1436 Text:孙先生逝世后，多人致赠哀悼孙先生挽联：\n",
      "Index:1446 Text:民族、民权、民生的「三民主义」。\n",
      "Index:1456 Text:人生哲学：「不做大官，要做大事。」\n",
      "Index:1461 Text:以下为其早年对宗教之言论：\n",
      "Index:1463 Text:孙中山论宗教和民族的关系：\n",
      "Index:1465 Text:孙中山论“三民主义信仰”：\n",
      "Index:1468 Text:且孙中山脱险后写信曰︰\n",
      "Index:1553 Text:通过图像识别和声音识别来进行信息搜索。\n",
      "Index:1663 Text:以下是GNU计划的正式发言人：\n",
      "Index:1967 Text:城中有涡河流经，是淮河支流。\n",
      "Index:1969 Text:现辖1个市辖区、3个县。\n",
      "Index:1973 Text:计算机网络的拓扑结构可分为：\n",
      "Index:2068 Text:知名的公立科研设计机构有：\n",
      "Index:2136 Text:数位音乐工作站（DAW）\n",
      "Index:2161 Text:「中国」一词的字面意思是「中央之国」，\n",
      "Index:2493 Text:以下是西方一些神学家对宗教所下的定义：\n",
      "Index:2533 Text:对于儒教是否宗教，存在不同的意见。\n",
      "Index:2549 Text:田汉所作之歌词，如下：\n",
      "Index:2586 Text:（约前2070年－约前1600年）\n",
      "Index:2588 Text:（约前1600年－约前1046年）\n",
      "Index:2594 Text:教育具有多方面功能： \n",
      "Index:2614 Text:印度的制度化教育已有很长的历史。\n",
      "Index:2619 Text:家长参与儿童的教育性发展是必要的。\n",
      "Index:2828 Text:《中华人民共和国国籍法》第五条表示：\n",
      "Index:2829 Text:《中华民国国籍法》第二条表示：\n",
      "Index:2833 Text:（1）唐代到南宋（618-1270）\n",
      "Index:2947 Text:旅游人士称旅客，游客。\n",
      "Index:3000 Text:5月11日，她的遗体经空运抵达台北。\n",
      "Index:3120 Text:数论早期铺垫有三大内容：\n",
      "Index:3121 Text:以上工作成为现代数论的基本框架。\n",
      "Index:3126 Text:费马在数论上的贡献有：\n",
      "Index:3199 Text:晋十六国南北朝历史年表\n",
      "Index:3254 Text:此乃一简易的文本范例。\n",
      "Index:3385 Text:阿尔巴尼亚国家旅游局网址：\n",
      "Index:3403 Text:「Hacker」（黑客）一般是指：\n",
      "Index:3431 Text:福建交通的主管部门是福建省交通运输厅。\n",
      "Index:3674 Text:中国省级行政区面积列表\n",
      "Index:3677 Text:中华人民共和国各省级行政区人口列表\n",
      "Index:3681 Text:中华人民共和国各省级行政区人口密度列表\n",
      "Index:3741 Text:打造国际旅游岛的内涵是：\n",
      "Index:3742 Text:国际旅游岛的主要特点有：\n",
      "Index:3745 Text:以下是海南省境内的旅游景点：\n",
      "Index:3760 Text:海南省省级非物质文化遗产86项。\n",
      "Index:3765 Text:曾被贬谪海南岛的历史名人\n",
      "Index:3768 Text:商代时期，邢台曾为商代国都。\n",
      "Index:3778 Text:金代时属河北东路和河北西路、中都府路。\n",
      "Index:3779 Text:元代河北为中央直属的中书省。\n",
      "Index:3816 Text:河北是河北梆子和评剧的故乡。\n",
      "Index:3825 Text:黑龙江省的主要湖泊有：\n",
      "Index:3844 Text:途径黑龙江省的国家高速公路有：\n",
      "Index:3922 Text:河南道教遗迹遍布，著名的有：\n",
      "Index:3950 Text:铜矿：集中分布在黄石、大冶和阳新三市县\n",
      "Index:3951 Text:盐、石膏、芒硝：集中分布于江汉平原\n",
      "Index:3989 Text:详见：湖北省高等学校列表\n",
      "Index:4000 Text:唐代增加到8州37县，8个州分别为：\n",
      "Index:4031 Text:报纸：江西日报、江南都市报、信息日报，\n",
      "Index:4032 Text:电视：江西电视台、江西教育电视台；\n",
      "Index:4033 Text:广播：江西人民广播电视台\n",
      "Index:4034 Text:网络媒体：大江网(江西日报社主办)\n",
      "Index:4041 Text:穆斯林约1万人。南昌市有醋巷清真寺。\n",
      "Index:4079 Text:知名团体有吉林省吉剧团。\n",
      "Index:4087 Text:著名演员有高秀敏、闫学晶、刘小光等。\n",
      "Index:4104 Text:长春亚泰、延边富德、长春大众华信\n",
      "Index:4116 Text:地级市：西宁市、海东市\n"
     ]
    }
   ],
   "source": [
    "def is_non_cn_char_line(text, threshold=0.8):\n",
    "    num_cn_char = len([c for c in text if not '\\u4e00' <= c <= '\\u9fa5'])\n",
    "    if num_cn_char/len(text) > threshold:\n",
    "        return True\n",
    "    else:\n",
    "        return False\n",
    "\n",
    "\n",
    "def split_line(text):\n",
    "    json_string = json.loads(text)\n",
    "    text = json_string.get('text', '')\n",
    "    return [line for line in text.split('\\n') if len(line) > 10 and not is_non_cn_char_line(line)]\n",
    "\n",
    "\n",
    "iter = DirCorpusGenerator(\n",
    "    corpus_dir_path, recursive=True, split_func=split_line)\n",
    "\n",
    "cnt_print = 0\n",
    "\n",
    "\n",
    "for idx, line in enumerate(iter):\n",
    "    if len(line)< 20:\n",
    "        print(\"Index:{} Text:{}\".format(idx, line))\n",
    "        cnt_print += 1\n",
    "\n",
    "    if cnt_print == 100:\n",
    "        break"
   ]
  },
  {
   "cell_type": "markdown",
   "metadata": {},
   "source": [
    "# 输出一个文本用于做sentence piece训练"
   ]
  },
  {
   "cell_type": "code",
   "execution_count": 16,
   "metadata": {
    "ExecuteTime": {
     "end_time": "2020-03-21T09:37:16.402023Z",
     "start_time": "2020-03-21T09:37:00.540447Z"
    }
   },
   "outputs": [],
   "source": [
    "iter = DirCorpusGenerator(\n",
    "    corpus_dir_path, recursive=True, split_func=split_line)\n",
    "\n",
    "cnt_print = 0\n",
    "\n",
    "with open('corpus.txt', 'w', encoding='utf-8') as fd:\n",
    "    for idx, line in enumerate(iter):\n",
    "        fd.write(line)\n",
    "        fd.write('\\n')\n",
    "        if idx == 1000000:\n",
    "            break\n",
    "    \n"
   ]
  }
 ],
 "metadata": {
  "kernelspec": {
   "display_name": "Python 3",
   "language": "python",
   "name": "python3"
  },
  "language_info": {
   "codemirror_mode": {
    "name": "ipython",
    "version": 3
   },
   "file_extension": ".py",
   "mimetype": "text/x-python",
   "name": "python",
   "nbconvert_exporter": "python",
   "pygments_lexer": "ipython3",
   "version": "3.6.8"
  },
  "toc": {
   "base_numbering": 1,
   "nav_menu": {},
   "number_sections": true,
   "sideBar": true,
   "skip_h1_title": false,
   "title_cell": "Table of Contents",
   "title_sidebar": "Contents",
   "toc_cell": false,
   "toc_position": {},
   "toc_section_display": true,
   "toc_window_display": true
  },
  "varInspector": {
   "cols": {
    "lenName": 16,
    "lenType": 16,
    "lenVar": 40
   },
   "kernels_config": {
    "python": {
     "delete_cmd_postfix": "",
     "delete_cmd_prefix": "del ",
     "library": "var_list.py",
     "varRefreshCmd": "print(var_dic_list())"
    },
    "r": {
     "delete_cmd_postfix": ") ",
     "delete_cmd_prefix": "rm(",
     "library": "var_list.r",
     "varRefreshCmd": "cat(var_dic_list()) "
    }
   },
   "types_to_exclude": [
    "module",
    "function",
    "builtin_function_or_method",
    "instance",
    "_Feature"
   ],
   "window_display": false
  }
 },
 "nbformat": 4,
 "nbformat_minor": 2
}
